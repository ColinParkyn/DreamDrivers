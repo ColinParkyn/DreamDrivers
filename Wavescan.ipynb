{
 "cells": [
  {
   "cell_type": "code",
   "execution_count": null,
   "metadata": {},
   "outputs": [],
   "source": [
    "import numpy\n",
    "import time\n",
    "import sys\n",
    "import matplotlib.pyplot as plt\n",
    "import csv\n",
    "import scipy.io as sio\n",
    "import os\n",
    "\n"
   ]
  },
  {
   "cell_type": "code",
   "execution_count": null,
   "metadata": {},
   "outputs": [],
   "source": [
    "from x import t100s as t100s\n",
    "t100 = t100s.t100s()\n",
    "t100.connect('GPIB0::30::INSTR')#, reset=0, forceTrans=1)\n",
    "print(t100.query('*IDN?'))"
   ]
  },
  {
   "cell_type": "code",
   "execution_count": null,
   "metadata": {},
   "outputs": [],
   "source": [
    "from x import ctp10 as ctp10\n",
    "ctp = ctp10.ctp10()\n",
    "ctp.connect('GPIB0::29::INSTR')\n",
    "print(ctp.idn())"
   ]
  },
  {
   "cell_type": "code",
   "execution_count": null,
   "metadata": {},
   "outputs": [],
   "source": [
    "def wavelengthscan(wi,wf,steps,cunit,tunit,module,channel,filename)\n",
    "    domain=numpy.arange(wi,wf+steps,steps)\n",
    "    data=[]\n",
    "    checker=[]\n",
    "    t100.enable(True)\n",
    "    t100.setunit(tunit)\n",
    "    ctp.setpowunit(cunit)\n",
    "    for i in domain:\n",
    "        t100.setwav(i)\n",
    "        while t100.checkOPC!=True:\n",
    "            time.sleep(0.1)\n",
    "        data.append(ctp.getpow(module,channel))\n",
    "        checker.append(t100.getwav)"
   ]
  },
  {
   "cell_type": "code",
   "execution_count": null,
   "metadata": {},
   "outputs": [],
   "source": []
  }
 ],
 "metadata": {
  "kernelspec": {
   "display_name": "Python 3",
   "language": "python",
   "name": "python3"
  },
  "language_info": {
   "codemirror_mode": {
    "name": "ipython",
    "version": 3
   },
   "file_extension": ".py",
   "mimetype": "text/x-python",
   "name": "python",
   "nbconvert_exporter": "python",
   "pygments_lexer": "ipython3",
   "version": "3.8.5"
  }
 },
 "nbformat": 4,
 "nbformat_minor": 4
}
